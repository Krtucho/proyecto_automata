{
 "cells": [
  {
   "cell_type": "code",
   "execution_count": 53,
   "metadata": {},
   "outputs": [],
   "source": [
    "import matplotlib.pyplot as plt\n",
    "from CSP import *\n",
    "\n",
    "dicc_pac={}\n",
    "dicc_doct={}\n",
    "dicc_apar={}\n",
    "\n",
    "dicc_pac= {\"pancreas\":0, \"ovarios\":0, \"cerebro\":0, \"mama\":0, \"higado\":0, \"rinnones\":0, \"piel\":0,\n",
    "\"nariz\":0, \"tiroides\":0, \"testiculos\":0}\n",
    "dicc_doct= {\"pancreas\":0, \"ovarios\":0, \"cerebro\":0, \"mama\":0, \"higado\":0, \"rinnones\":0, \"piel\":0,\n",
    "\"nariz\":0, \"tiroides\":0, \"testiculos\":0, \"General\": 0}\n",
    "\n",
    "csp_list1\n",
    "def comparar(csp_list):\n",
    "    dicc_pac= {\"pancreas\":0, \"ovarios\":0, \"cerebro\":0, \"mama\":0, \"higado\":0, \"rinnones\":0, \"piel\":0,\n",
    "    \"nariz\":0, \"tiroides\":0, \"testiculos\":0}\n",
    "    dicc_doct= {\"pancreas\":0, \"ovarios\":0, \"cerebro\":0, \"mama\":0, \"higado\":0, \"rinnones\":0, \"piel\":0,\n",
    "    \"nariz\":0, \"tiroides\":0, \"testiculos\":0, \"General\": 0}\n",
    "    dicc_apar={\"AparatoP\":0, \"AparatoO\":0, \"X-Ray\":0, \"AparatoM\":0, \"AparatoPiel\":0}\n",
    "\n",
    "    for dicc in csp_list:\n",
    "        for paciente, solution in dicc.items():\n",
    "            if not paciente.type_tumor == None:\n",
    "                dicc_pac[paciente.type_tumor]+=1\n",
    "            else:\n",
    "                dicc_pac[paciente.possibles_tumors[0]]+=1\n",
    "            if len(solution.doctors) >0:\n",
    "                dicc_doct[solution.doctors[0].specialty]+=1\n",
    "            if len(solution.apparatus) >0:\n",
    "                dicc_apar[solution.apparatus[0].name]+=1\n",
    "    return dicc_pac,dicc_doct,dicc_apar\n",
    "\n",
    "def dicc_total(dicc_t, dicc_actual):\n",
    "    for item in dicc_actual.keys():\n",
    "        dicc_t[item]+=dicc_actual[item]\n",
    "    return dicc_t\n",
    "\n",
    "dicc_pac1,dicc_doct1,dicc_apar1=comparar(csp_list1)\n",
    "dicc_pac2,dicc_doct2,dicc_apar2=comparar(csp_list2)\n",
    "dicc_pac3,dicc_doct3,dicc_apar3=comparar(csp_list3)\n",
    "dicc_pac4,dicc_doct4,dicc_apar4=comparar(csp_list4)\n",
    "dicc_pac5,dicc_doct5,dicc_apar5=comparar(csp_list5)\n",
    "dicc_pac6,dicc_doct6,dicc_apar6=comparar(csp_list6)\n",
    "\n",
    "dicc_t={\"pancreas\":0, \"ovarios\":0, \"cerebro\":0, \"mama\":0, \"higado\":0, \"rinnones\":0, \"piel\":0,\n",
    "\"nariz\":0, \"tiroides\":0, \"testiculos\":0}\n",
    "dicc_t=dicc_total(dicc_t, dicc_pac1)\n",
    "dicc_t=dicc_total(dicc_t, dicc_pac2)\n",
    "dicc_t=dicc_total(dicc_t, dicc_pac3)\n",
    "dicc_t=dicc_total(dicc_t, dicc_pac4)\n",
    "dicc_t=dicc_total(dicc_t, dicc_pac5)\n",
    "dicc_t=dicc_total(dicc_t, dicc_pac6)\n",
    "\n",
    "dicc_t_doc={\"pancreas\":0, \"ovarios\":0, \"cerebro\":0, \"mama\":0, \"higado\":0, \"rinnones\":0, \"piel\":0,\n",
    "\"nariz\":0, \"tiroides\":0, \"testiculos\":0, \"General\": 0}\n",
    "dicc_t_doc=dicc_total(dicc_t_doc, dicc_doct1)\n",
    "dicc_t_doc=dicc_total(dicc_t_doc, dicc_doct2)\n",
    "dicc_t_doc=dicc_total(dicc_t_doc, dicc_doct3)\n",
    "dicc_t_doc=dicc_total(dicc_t_doc, dicc_doct4)\n",
    "dicc_t_doc=dicc_total(dicc_t_doc, dicc_doct5)\n",
    "dicc_t_doc=dicc_total(dicc_t_doc, dicc_doct6)\n",
    "\n",
    "#x=[item[0] for item in dicc_t.items() if not item[1] == 0]\n",
    "x=[item for item in dicc_t.values() if not item == 0]\n",
    "y=[item for item in dicc_t_doc.keys() if not dicc_t_doc[item] == 0]\n",
    "\n",
    "x1=[item[0] for item in dicc_pac1.items() if not item[1] == 0]\n",
    "y1=[item for item in dicc_pac1.values() if not item == 0]\n",
    "\n",
    "x2=[item[0] for item in dicc_pac2.items() if not item[1] == 0]\n",
    "y2=[item for item in dicc_pac2.values() if not item == 0]\n",
    "\n",
    "# import seaborn as sns"
   ]
  },
  {
   "cell_type": "code",
   "execution_count": 54,
   "metadata": {},
   "outputs": [
    {
     "ename": "ValueError",
     "evalue": "shape mismatch: objects cannot be broadcast to a single shape.  Mismatch is between arg 0 with shape (8,) and arg 1 with shape (9,).",
     "output_type": "error",
     "traceback": [
      "\u001b[1;31m---------------------------------------------------------------------------\u001b[0m",
      "\u001b[1;31mValueError\u001b[0m                                Traceback (most recent call last)",
      "Cell \u001b[1;32mIn[54], line 5\u001b[0m\n\u001b[0;32m      1\u001b[0m \u001b[39m# Repetir por cada Doctor\u001b[39;00m\n\u001b[0;32m      2\u001b[0m \u001b[39m# x = ['pancrea', 'cerebro', 'ovarios', 'mama'] # Pacientes del tipo x\u001b[39;00m\n\u001b[0;32m      3\u001b[0m \u001b[39m# y = [1,2,3,4] # Deficit de doctores del tipo y\u001b[39;00m\n\u001b[1;32m----> 5\u001b[0m plt\u001b[39m.\u001b[39;49mbar(x, y, color\u001b[39m=\u001b[39;49m\u001b[39m\"\u001b[39;49m\u001b[39mpurple\u001b[39;49m\u001b[39m\"\u001b[39;49m)\n\u001b[0;32m      6\u001b[0m plt\u001b[39m.\u001b[39mtitle(\u001b[39m\"\u001b[39m\u001b[39mPacientes vs Doctores\u001b[39m\u001b[39m\"\u001b[39m)\n\u001b[0;32m      7\u001b[0m plt\u001b[39m.\u001b[39mxlabel(\u001b[39m\"\u001b[39m\u001b[39mPacientes del tipo x\u001b[39m\u001b[39m\"\u001b[39m)\n",
      "File \u001b[1;32mc:\\Users\\Belsai\\AppData\\Local\\Programs\\Python\\Python39\\lib\\site-packages\\matplotlib\\pyplot.py:2367\u001b[0m, in \u001b[0;36mbar\u001b[1;34m(x, height, width, bottom, align, data, **kwargs)\u001b[0m\n\u001b[0;32m   2363\u001b[0m \u001b[39m@_copy_docstring_and_deprecators\u001b[39m(Axes\u001b[39m.\u001b[39mbar)\n\u001b[0;32m   2364\u001b[0m \u001b[39mdef\u001b[39;00m \u001b[39mbar\u001b[39m(\n\u001b[0;32m   2365\u001b[0m         x, height, width\u001b[39m=\u001b[39m\u001b[39m0.8\u001b[39m, bottom\u001b[39m=\u001b[39m\u001b[39mNone\u001b[39;00m, \u001b[39m*\u001b[39m, align\u001b[39m=\u001b[39m\u001b[39m'\u001b[39m\u001b[39mcenter\u001b[39m\u001b[39m'\u001b[39m,\n\u001b[0;32m   2366\u001b[0m         data\u001b[39m=\u001b[39m\u001b[39mNone\u001b[39;00m, \u001b[39m*\u001b[39m\u001b[39m*\u001b[39mkwargs):\n\u001b[1;32m-> 2367\u001b[0m     \u001b[39mreturn\u001b[39;00m gca()\u001b[39m.\u001b[39mbar(\n\u001b[0;32m   2368\u001b[0m         x, height, width\u001b[39m=\u001b[39mwidth, bottom\u001b[39m=\u001b[39mbottom, align\u001b[39m=\u001b[39malign,\n\u001b[0;32m   2369\u001b[0m         \u001b[39m*\u001b[39m\u001b[39m*\u001b[39m({\u001b[39m\"\u001b[39m\u001b[39mdata\u001b[39m\u001b[39m\"\u001b[39m: data} \u001b[39mif\u001b[39;00m data \u001b[39mis\u001b[39;00m \u001b[39mnot\u001b[39;00m \u001b[39mNone\u001b[39;00m \u001b[39melse\u001b[39;00m {}), \u001b[39m*\u001b[39m\u001b[39m*\u001b[39mkwargs)\n",
      "File \u001b[1;32mc:\\Users\\Belsai\\AppData\\Local\\Programs\\Python\\Python39\\lib\\site-packages\\matplotlib\\__init__.py:1423\u001b[0m, in \u001b[0;36m_preprocess_data.<locals>.inner\u001b[1;34m(ax, data, *args, **kwargs)\u001b[0m\n\u001b[0;32m   1420\u001b[0m \u001b[39m@functools\u001b[39m\u001b[39m.\u001b[39mwraps(func)\n\u001b[0;32m   1421\u001b[0m \u001b[39mdef\u001b[39;00m \u001b[39minner\u001b[39m(ax, \u001b[39m*\u001b[39margs, data\u001b[39m=\u001b[39m\u001b[39mNone\u001b[39;00m, \u001b[39m*\u001b[39m\u001b[39m*\u001b[39mkwargs):\n\u001b[0;32m   1422\u001b[0m     \u001b[39mif\u001b[39;00m data \u001b[39mis\u001b[39;00m \u001b[39mNone\u001b[39;00m:\n\u001b[1;32m-> 1423\u001b[0m         \u001b[39mreturn\u001b[39;00m func(ax, \u001b[39m*\u001b[39m\u001b[39mmap\u001b[39m(sanitize_sequence, args), \u001b[39m*\u001b[39m\u001b[39m*\u001b[39mkwargs)\n\u001b[0;32m   1425\u001b[0m     bound \u001b[39m=\u001b[39m new_sig\u001b[39m.\u001b[39mbind(ax, \u001b[39m*\u001b[39margs, \u001b[39m*\u001b[39m\u001b[39m*\u001b[39mkwargs)\n\u001b[0;32m   1426\u001b[0m     auto_label \u001b[39m=\u001b[39m (bound\u001b[39m.\u001b[39marguments\u001b[39m.\u001b[39mget(label_namer)\n\u001b[0;32m   1427\u001b[0m                   \u001b[39mor\u001b[39;00m bound\u001b[39m.\u001b[39mkwargs\u001b[39m.\u001b[39mget(label_namer))\n",
      "File \u001b[1;32mc:\\Users\\Belsai\\AppData\\Local\\Programs\\Python\\Python39\\lib\\site-packages\\matplotlib\\axes\\_axes.py:2391\u001b[0m, in \u001b[0;36mAxes.bar\u001b[1;34m(self, x, height, width, bottom, align, **kwargs)\u001b[0m\n\u001b[0;32m   2388\u001b[0m     \u001b[39mif\u001b[39;00m yerr \u001b[39mis\u001b[39;00m \u001b[39mnot\u001b[39;00m \u001b[39mNone\u001b[39;00m:\n\u001b[0;32m   2389\u001b[0m         yerr \u001b[39m=\u001b[39m \u001b[39mself\u001b[39m\u001b[39m.\u001b[39m_convert_dx(yerr, y0, y, \u001b[39mself\u001b[39m\u001b[39m.\u001b[39mconvert_yunits)\n\u001b[1;32m-> 2391\u001b[0m x, height, width, y, linewidth, hatch \u001b[39m=\u001b[39m np\u001b[39m.\u001b[39;49mbroadcast_arrays(\n\u001b[0;32m   2392\u001b[0m     \u001b[39m# Make args iterable too.\u001b[39;49;00m\n\u001b[0;32m   2393\u001b[0m     np\u001b[39m.\u001b[39;49matleast_1d(x), height, width, y, linewidth, hatch)\n\u001b[0;32m   2395\u001b[0m \u001b[39m# Now that units have been converted, set the tick locations.\u001b[39;00m\n\u001b[0;32m   2396\u001b[0m \u001b[39mif\u001b[39;00m orientation \u001b[39m==\u001b[39m \u001b[39m'\u001b[39m\u001b[39mvertical\u001b[39m\u001b[39m'\u001b[39m:\n",
      "File \u001b[1;32m<__array_function__ internals>:180\u001b[0m, in \u001b[0;36mbroadcast_arrays\u001b[1;34m(*args, **kwargs)\u001b[0m\n",
      "File \u001b[1;32mc:\\Users\\Belsai\\AppData\\Local\\Programs\\Python\\Python39\\lib\\site-packages\\numpy\\lib\\stride_tricks.py:540\u001b[0m, in \u001b[0;36mbroadcast_arrays\u001b[1;34m(subok, *args)\u001b[0m\n\u001b[0;32m    533\u001b[0m \u001b[39m# nditer is not used here to avoid the limit of 32 arrays.\u001b[39;00m\n\u001b[0;32m    534\u001b[0m \u001b[39m# Otherwise, something like the following one-liner would suffice:\u001b[39;00m\n\u001b[0;32m    535\u001b[0m \u001b[39m# return np.nditer(args, flags=['multi_index', 'zerosize_ok'],\u001b[39;00m\n\u001b[0;32m    536\u001b[0m \u001b[39m#                  order='C').itviews\u001b[39;00m\n\u001b[0;32m    538\u001b[0m args \u001b[39m=\u001b[39m [np\u001b[39m.\u001b[39marray(_m, copy\u001b[39m=\u001b[39m\u001b[39mFalse\u001b[39;00m, subok\u001b[39m=\u001b[39msubok) \u001b[39mfor\u001b[39;00m _m \u001b[39min\u001b[39;00m args]\n\u001b[1;32m--> 540\u001b[0m shape \u001b[39m=\u001b[39m _broadcast_shape(\u001b[39m*\u001b[39;49margs)\n\u001b[0;32m    542\u001b[0m \u001b[39mif\u001b[39;00m \u001b[39mall\u001b[39m(array\u001b[39m.\u001b[39mshape \u001b[39m==\u001b[39m shape \u001b[39mfor\u001b[39;00m array \u001b[39min\u001b[39;00m args):\n\u001b[0;32m    543\u001b[0m     \u001b[39m# Common case where nothing needs to be broadcasted.\u001b[39;00m\n\u001b[0;32m    544\u001b[0m     \u001b[39mreturn\u001b[39;00m args\n",
      "File \u001b[1;32mc:\\Users\\Belsai\\AppData\\Local\\Programs\\Python\\Python39\\lib\\site-packages\\numpy\\lib\\stride_tricks.py:422\u001b[0m, in \u001b[0;36m_broadcast_shape\u001b[1;34m(*args)\u001b[0m\n\u001b[0;32m    417\u001b[0m \u001b[39m\u001b[39m\u001b[39m\"\"\"Returns the shape of the arrays that would result from broadcasting the\u001b[39;00m\n\u001b[0;32m    418\u001b[0m \u001b[39msupplied arrays against each other.\u001b[39;00m\n\u001b[0;32m    419\u001b[0m \u001b[39m\"\"\"\u001b[39;00m\n\u001b[0;32m    420\u001b[0m \u001b[39m# use the old-iterator because np.nditer does not handle size 0 arrays\u001b[39;00m\n\u001b[0;32m    421\u001b[0m \u001b[39m# consistently\u001b[39;00m\n\u001b[1;32m--> 422\u001b[0m b \u001b[39m=\u001b[39m np\u001b[39m.\u001b[39;49mbroadcast(\u001b[39m*\u001b[39;49margs[:\u001b[39m32\u001b[39;49m])\n\u001b[0;32m    423\u001b[0m \u001b[39m# unfortunately, it cannot handle 32 or more arguments directly\u001b[39;00m\n\u001b[0;32m    424\u001b[0m \u001b[39mfor\u001b[39;00m pos \u001b[39min\u001b[39;00m \u001b[39mrange\u001b[39m(\u001b[39m32\u001b[39m, \u001b[39mlen\u001b[39m(args), \u001b[39m31\u001b[39m):\n\u001b[0;32m    425\u001b[0m     \u001b[39m# ironically, np.broadcast does not properly handle np.broadcast\u001b[39;00m\n\u001b[0;32m    426\u001b[0m     \u001b[39m# objects (it treats them as scalars)\u001b[39;00m\n\u001b[0;32m    427\u001b[0m     \u001b[39m# use broadcasting to avoid allocating the full array\u001b[39;00m\n",
      "\u001b[1;31mValueError\u001b[0m: shape mismatch: objects cannot be broadcast to a single shape.  Mismatch is between arg 0 with shape (8,) and arg 1 with shape (9,)."
     ]
    },
    {
     "data": {
      "image/png": "[encoded data removed]",
      "text/plain": [
       "<Figure size 640x480 with 1 Axes>"
      ]
     },
     "metadata": {},
     "output_type": "display_data"
    }
   ],
   "source": [
    "# Repetir por cada Doctor\n",
    "# x = ['pancrea', 'cerebro', 'ovarios', 'mama'] # Pacientes del tipo x\n",
    "# y = [1,2,3,4] # Deficit de doctores del tipo y\n",
    "\n",
    "plt.bar(x, y, color=\"purple\")\n",
    "plt.title(\"Pacientes vs Doctores\")\n",
    "plt.xlabel(\"Pacientes del tipo x\")\n",
    "plt.ylabel(\"Doctores\")"
   ]
  }
 ],
 "metadata": {
  "kernelspec": {
   "display_name": "Python 3",
   "language": "python",
   "name": "python3"
  },
  "language_info": {
   "codemirror_mode": {
    "name": "ipython",
    "version": 3
   },
   "file_extension": ".py",
   "mimetype": "text/x-python",
   "name": "python",
   "nbconvert_exporter": "python",
   "pygments_lexer": "ipython3",
   "version": "3.9.10"
  },
  "orig_nbformat": 4,
  "vscode": {
   "interpreter": {
    "hash": "64f519afd62bed78289415b17892b915e23fe14f0d0f359922ab3b3b29c12ca2"
   }
  }
 },
 "nbformat": 4,
 "nbformat_minor": 2
}
